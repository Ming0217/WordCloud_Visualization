{
 "cells": [
  {
   "cell_type": "markdown",
   "metadata": {},
   "source": [
    "### Import Required Libraries"
   ]
  },
  {
   "cell_type": "code",
   "execution_count": null,
   "metadata": {},
   "outputs": [],
   "source": [
    "from PIL import Image\n",
    "import numpy as np\n",
    "import random\n",
    "import matplotlib.pyplot as plt\n",
    "import csv\n",
    "from palettable.colorbrewer.sequential import Greens_9\n",
    "from palettable.tableau import BlueRed_6,Gray_5,GreenOrange_6,PurpleGray_6\n",
    "from palettable.wesanderson import Zissou_5,GrandBudapest1_4,Moonrise5_6,Margot1_5\n",
    "from palettable.cmocean.diverging import Delta_6\n",
    "from palettable.cmocean.sequential import Dense_9\n",
    "from palettable.colorbrewer.qualitative import Set3_5\n",
    "from palettable.cartocolors.qualitative import Bold_5\n",
    "\n",
    "from wordcloud import WordCloud, STOPWORDS\n",
    "%matplotlib inline"
   ]
  },
  {
   "cell_type": "markdown",
   "metadata": {},
   "source": [
    "### Read in the Texts"
   ]
  },
  {
   "cell_type": "code",
   "execution_count": null,
   "metadata": {},
   "outputs": [],
   "source": [
    "text_path = \"texts/shakespeares_sonnets.txt\""
   ]
  },
  {
   "cell_type": "code",
   "execution_count": null,
   "metadata": {},
   "outputs": [],
   "source": [
    "text = open(filename,encoding='utf-8').read().upper()"
   ]
  },
  {
   "cell_type": "markdown",
   "metadata": {},
   "source": [
    "### Masks"
   ]
  },
  {
   "cell_type": "code",
   "execution_count": null,
   "metadata": {},
   "outputs": [],
   "source": [
    "def create_mask(imagename):\n",
    "    icon = Image.open(imagename)\n",
    "    mask = Image.new(\"RGB\", icon.size, (255,255,255))\n",
    "    mask.paste(icon,icon)\n",
    "    mask = np.array(mask)\n",
    "    return mask"
   ]
  },
  {
   "cell_type": "markdown",
   "metadata": {},
   "source": [
    "#### <span style=\"color:#8B4513\">specifiy the picture used for the mask</span>"
   ]
  },
  {
   "cell_type": "code",
   "execution_count": null,
   "metadata": {},
   "outputs": [],
   "source": [
    "image_path = \"images/wine.png\""
   ]
  },
  {
   "cell_type": "code",
   "execution_count": null,
   "metadata": {},
   "outputs": [],
   "source": [
    "mask = create_mask(image_path)"
   ]
  },
  {
   "cell_type": "markdown",
   "metadata": {},
   "source": [
    "### Color Themes"
   ]
  },
  {
   "cell_type": "code",
   "execution_count": null,
   "metadata": {},
   "outputs": [],
   "source": [
    "def color_func1(word, font_size, position, orientation, random_state=None, **kwargs):\n",
    "    return tuple(Gray_5.colors[random.randint(1,4)])\n",
    "    #return tuple(Greens_9.colors[random.randint(2,8)])"
   ]
  },
  {
   "cell_type": "code",
   "execution_count": null,
   "metadata": {},
   "outputs": [],
   "source": [
    "def color_func2(word, font_size, position, orientation, random_state=None, **kwargs):\n",
    "    return tuple(BlueRed_6.colors[random.randint(2,5)])"
   ]
  },
  {
   "cell_type": "code",
   "execution_count": null,
   "metadata": {},
   "outputs": [],
   "source": [
    "def color_func3(word, font_size, position, orientation, random_state=None, **kwargs):\n",
    "    return tuple(Zissou_5.colors[random.randint(1,4)])"
   ]
  },
  {
   "cell_type": "code",
   "execution_count": null,
   "metadata": {},
   "outputs": [],
   "source": [
    "def color_func4(word, font_size, position, orientation, random_state=None, **kwargs):\n",
    "    return tuple(PurpleGray_6.colors[random.randint(1,4)])"
   ]
  },
  {
   "cell_type": "code",
   "execution_count": null,
   "metadata": {},
   "outputs": [],
   "source": [
    "def color_func5(word, font_size, position, orientation, random_state=None, **kwargs):\n",
    "    return tuple(GreenOrange_6.colors[random.randint(1,5)])"
   ]
  },
  {
   "cell_type": "code",
   "execution_count": null,
   "metadata": {},
   "outputs": [],
   "source": [
    "def color_func6(word, font_size, position, orientation, random_state=None, **kwargs):\n",
    "    return tuple(GrandBudapest1_4.colors[random.randint(1,3)])"
   ]
  },
  {
   "cell_type": "code",
   "execution_count": null,
   "metadata": {},
   "outputs": [],
   "source": [
    "def color_func7(word, font_size, position, orientation, random_state=None, **kwargs):\n",
    "    return tuple(Margot1_5.colors[random.randint(1,4)])"
   ]
  },
  {
   "cell_type": "code",
   "execution_count": null,
   "metadata": {},
   "outputs": [],
   "source": [
    "def color_func8(word, font_size, position, orientation, random_state=None, **kwargs):\n",
    "    return tuple(Bold_5.colors[random.randint(1,4)])"
   ]
  },
  {
   "cell_type": "code",
   "execution_count": null,
   "metadata": {},
   "outputs": [],
   "source": [
    "def color_func9(word, font_size, position, orientation, random_state=None, **kwargs):\n",
    "    return tuple(Dense_9.colors[random.randint(1,4)])"
   ]
  },
  {
   "cell_type": "markdown",
   "metadata": {},
   "source": [
    "### Fonts"
   ]
  },
  {
   "cell_type": "code",
   "execution_count": null,
   "metadata": {},
   "outputs": [],
   "source": [
    "font1 = \"Fonts/OpenSansCondensed-Bold.ttf\""
   ]
  },
  {
   "cell_type": "code",
   "execution_count": null,
   "metadata": {},
   "outputs": [],
   "source": [
    "font2 = \"Fonts/ZCOOLKuaiLe-Regular.ttf\""
   ]
  },
  {
   "cell_type": "code",
   "execution_count": null,
   "metadata": {},
   "outputs": [],
   "source": [
    "font3 = \"Fonts/LuckiestGuy-Regular.ttf\""
   ]
  },
  {
   "cell_type": "code",
   "execution_count": null,
   "metadata": {},
   "outputs": [],
   "source": [
    "font4 = \"Fonts/ShadowsIntoLight.ttf\""
   ]
  },
  {
   "cell_type": "code",
   "execution_count": null,
   "metadata": {},
   "outputs": [],
   "source": [
    "font5 = \"Fonts/Oswald-Bold.ttf\""
   ]
  },
  {
   "cell_type": "markdown",
   "metadata": {},
   "source": [
    "### Words Filtering"
   ]
  },
  {
   "cell_type": "markdown",
   "metadata": {},
   "source": [
    "#### <span style=\"color:#8B4513\">add the words that need to be filtered into the stopwords list</span>"
   ]
  },
  {
   "cell_type": "code",
   "execution_count": null,
   "metadata": {},
   "outputs": [],
   "source": [
    "stopwords = set(STOPWORDS)\n",
    "stopwords.update([\"one\",\"will\",\"page\",\"et\",\"al\",\"instead\",'still'])"
   ]
  },
  {
   "cell_type": "markdown",
   "metadata": {},
   "source": [
    "### Generating Wordlcoud Visualization"
   ]
  },
  {
   "cell_type": "markdown",
   "metadata": {},
   "source": [
    "#### <span style=\"color:#8B4513\">set the background color</span>"
   ]
  },
  {
   "cell_type": "code",
   "execution_count": null,
   "metadata": {},
   "outputs": [],
   "source": [
    "background_dark = \"#000000\""
   ]
  },
  {
   "cell_type": "code",
   "execution_count": null,
   "metadata": {},
   "outputs": [],
   "source": [
    "background_light = \"#FAEBD7\""
   ]
  },
  {
   "cell_type": "markdown",
   "metadata": {},
   "source": [
    "#### <span style=\"color:#8B4513\">generate the WordCloud object</span>"
   ]
  },
  {
   "cell_type": "code",
   "execution_count": null,
   "metadata": {},
   "outputs": [],
   "source": [
    "mycloud = WordCloud(font_path=font5, max_words=1000, max_font_size=100, scale = 2, \n",
    "                    stopwords=stopwords, mask=mask,random_state = 42,background_color=background_light)"
   ]
  },
  {
   "cell_type": "markdown",
   "metadata": {},
   "source": [
    "#### <span style=\"color:#8B4513\">reset the color theme for the WordCloud object</span>"
   ]
  },
  {
   "cell_type": "code",
   "execution_count": null,
   "metadata": {},
   "outputs": [],
   "source": [
    "mycloud.generate(text)\n",
    "mycloud.recolor(color_func=color_func6)"
   ]
  },
  {
   "cell_type": "markdown",
   "metadata": {},
   "source": [
    "#### <span style=\"color:#8B4513\">displaying the WordCloud Visualization</span>"
   ]
  },
  {
   "cell_type": "code",
   "execution_count": null,
   "metadata": {},
   "outputs": [],
   "source": [
    "plt.figure( figsize=(20,10) )\n",
    "plt.imshow(mycloud,interpolation='bilinear')\n",
    "plt.axis('off')"
   ]
  },
  {
   "cell_type": "markdown",
   "metadata": {},
   "source": [
    "#### <span style=\"color:#8B4513\">saving the visulization as an image</span>"
   ]
  },
  {
   "cell_type": "code",
   "execution_count": null,
   "metadata": {},
   "outputs": [],
   "source": [
    "mycloud.to_file('Visualizations/shakespeares_sonnets1.png')"
   ]
  }
 ],
 "metadata": {
  "kernelspec": {
   "display_name": "Python 3",
   "language": "python",
   "name": "python3"
  },
  "language_info": {
   "codemirror_mode": {
    "name": "ipython",
    "version": 3
   },
   "file_extension": ".py",
   "mimetype": "text/x-python",
   "name": "python",
   "nbconvert_exporter": "python",
   "pygments_lexer": "ipython3",
   "version": "3.7.1"
  }
 },
 "nbformat": 4,
 "nbformat_minor": 2
}
